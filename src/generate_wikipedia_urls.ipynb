{
 "cells": [
  {
   "cell_type": "code",
   "execution_count": null,
   "id": "66a26124",
   "metadata": {},
   "outputs": [],
   "source": [
    "%pip install beautifulsoup4"
   ]
  },
  {
   "cell_type": "code",
   "execution_count": null,
   "id": "f5866b0a",
   "metadata": {},
   "outputs": [],
   "source": [
    "import pathlib\n",
    "import urllib.request as ureq\n",
    "\n",
    "from bs4 import BeautifulSoup"
   ]
  },
  {
   "cell_type": "code",
   "execution_count": null,
   "id": "8d9564b4",
   "metadata": {},
   "outputs": [],
   "source": [
    "WIKIPEDIA_MAIN_URL = \"https://en.wikipedia.org\"\n",
    "ARTICLE_URL = f\"{WIKIPEDIA_MAIN_URL}/wiki/Wikipedia:Unusual_articles\""
   ]
  },
  {
   "cell_type": "code",
   "execution_count": null,
   "id": "3a645148",
   "metadata": {},
   "outputs": [],
   "source": [
    "WIKIPEDIA_URLS_PATH = pathlib.Path(\"./wikipedia_urls.txt\")"
   ]
  },
  {
   "cell_type": "code",
   "execution_count": null,
   "id": "0ff42394",
   "metadata": {},
   "outputs": [],
   "source": [
    "urls: set[str] = set()"
   ]
  },
  {
   "cell_type": "code",
   "execution_count": null,
   "id": "3ecb9c1a",
   "metadata": {},
   "outputs": [],
   "source": [
    "article_content = ureq.urlopen(ARTICLE_URL).read()  # noqa: S310"
   ]
  },
  {
   "cell_type": "code",
   "execution_count": null,
   "id": "d78ab13d",
   "metadata": {},
   "outputs": [],
   "source": [
    "soup = BeautifulSoup(article_content, \"html.parser\")"
   ]
  },
  {
   "cell_type": "code",
   "execution_count": null,
   "id": "665b434e",
   "metadata": {},
   "outputs": [],
   "source": [
    "wikitables = soup.find_all(\"table\", attrs={\"class\": \"wikitable\"})"
   ]
  },
  {
   "cell_type": "code",
   "execution_count": null,
   "id": "91b83153",
   "metadata": {},
   "outputs": [],
   "source": [
    "for table in wikitables:\n",
    "    for table_row in table.find_all(\"tr\"):  # pyright: ignore[reportAttributeAccessIssue]\n",
    "        urls.add(f\"{WIKIPEDIA_MAIN_URL}{table_row.td.a.get('href')}\")  # pyright: ignore[reportOptionalMemberAccess, reportAttributeAccessIssue]"
   ]
  },
  {
   "cell_type": "code",
   "execution_count": null,
   "id": "cd056bc2",
   "metadata": {},
   "outputs": [],
   "source": [
    "WIKIPEDIA_URLS_PATH.write_text(\"\\n\".join(urls).strip(), encoding=\"UTF-8\")"
   ]
  }
 ],
 "metadata": {
  "kernelspec": {
   "display_name": ".venv",
   "language": "python",
   "name": "python3"
  },
  "language_info": {
   "codemirror_mode": {
    "name": "ipython",
    "version": 3
   },
   "file_extension": ".py",
   "mimetype": "text/x-python",
   "name": "python",
   "nbconvert_exporter": "python",
   "pygments_lexer": "ipython3",
   "version": "3.13.5"
  }
 },
 "nbformat": 4,
 "nbformat_minor": 5
}
